{
 "cells": [
  {
   "cell_type": "markdown",
   "id": "e86ca33c-9aec-494a-8bb0-f20d0f79e998",
   "metadata": {},
   "source": [
    "# Data Science Tools and Ecosystem"
   ]
  },
  {
   "cell_type": "markdown",
   "id": "bb486b76-eac3-4c33-84d4-c9f0c0f46066",
   "metadata": {},
   "source": [
    "In this notebook, Data Science Tools and Ecosystem are summarized."
   ]
  },
  {
   "cell_type": "markdown",
   "id": "ab97ee0a-6edc-45a6-a591-8a04bb00b746",
   "metadata": {},
   "source": [
    "**Objectives:** \n",
    "- List some of the popular languages that can be commonly used for data science.\n",
    "- List development environment open-source tools for data science.\n",
    "- List some libraries used by data scientists. "
   ]
  },
  {
   "cell_type": "markdown",
   "id": "2c43a49b-59fc-4c60-a308-dc96258c2db5",
   "metadata": {},
   "source": [
    "Some of the popular languages that Data Scientists use are:\n",
    "\n",
    "1. Python\n",
    "2. R\n",
    "3. SQL"
   ]
  },
  {
   "cell_type": "markdown",
   "id": "7fac8097-8af9-4449-93da-3f034a50877d",
   "metadata": {},
   "source": [
    "Some of the commonly used libraries used by Data Scientists include:\n",
    "\n",
    "1. NumPy\n",
    "2. Pandas\n",
    "3. Matplotlib"
   ]
  },
  {
   "cell_type": "markdown",
   "id": "f3210138-14fa-4e02-8151-4efb59cf4c00",
   "metadata": {},
   "source": [
    "| Data Science Tools |\n",
    "|--------------------|\n",
    "| Jupyter Notebook   |\n",
    "| Visual Studio Code |\n",
    "| R studio           |"
   ]
  },
  {
   "cell_type": "markdown",
   "id": "68f2276a-90c9-44f5-81b2-4f926e5edbf1",
   "metadata": {},
   "source": [
    "### Below are a few examples of evaluating arithmetic expressions in Python"
   ]
  },
  {
   "cell_type": "code",
   "execution_count": 2,
   "id": "6202ac8a-6ceb-4ec7-8f92-a763d08dc3cc",
   "metadata": {},
   "outputs": [
    {
     "data": {
      "text/plain": [
       "19"
      ]
     },
     "execution_count": 2,
     "metadata": {},
     "output_type": "execute_result"
    }
   ],
   "source": [
    "#This a simple arithmetic expression to multiply then add integers\n",
    "\n",
    "(3*4)+70"
   ]
  },
  {
   "cell_type": "code",
   "execution_count": 3,
   "id": "d5247790-e73e-4161-9188-4eb76be25e10",
   "metadata": {},
   "outputs": [
    {
     "data": {
      "text/plain": [
       "2.857142857142857"
      ]
     },
     "execution_count": 3,
     "metadata": {},
     "output_type": "execute_result"
    }
   ],
   "source": [
    "#This will convert 200 minutes to hours by diving by 60\n",
    "\n",
    "200/70"
   ]
  },
  {
   "cell_type": "markdown",
   "id": "af3c8252-fb43-4f1c-9008-7571c2fa8e11",
   "metadata": {},
   "source": [
    "## Author \n",
    "K.A. Kavindu Disnaka"
   ]
  }
 ],
 "metadata": {
  "kernelspec": {
   "display_name": "Python 3 (ipykernel)",
   "language": "python",
   "name": "python3"
  },
  "language_info": {
   "codemirror_mode": {
    "name": "ipython",
    "version": 3
   },
   "file_extension": ".py",
   "mimetype": "text/x-python",
   "name": "python",
   "nbconvert_exporter": "python",
   "pygments_lexer": "ipython3",
   "version": "3.12.2"
  }
 },
 "nbformat": 4,
 "nbformat_minor": 5
}
